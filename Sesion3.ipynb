{
 "cells": [
  {
   "cell_type": "markdown",
   "metadata": {},
   "source": [
    "# Divide and Conquer"
   ]
  },
  {
   "cell_type": "code",
   "execution_count": null,
   "metadata": {},
   "outputs": [],
   "source": [
    "def merge(a, ini, fin):\n",
    "  mid = (ini + fin) // 2\n",
    "  i = ini\n",
    "  j = mid + 1\n",
    "  n = fin - ini + 1\n",
    "  temp = [0]*n\n",
    "  for k in range(n):\n",
    "    if j > fin or (i <= mid and a[i] < a[j]):\n",
    "      temp[k] = a[i]\n",
    "      i += 1\n",
    "    else:\n",
    "      temp[k] = a[j]\n",
    "      j += 1\n",
    "\n",
    "  for k in range(n):\n",
    "    a[ini + k] = temp[k]\n",
    "\n",
    "def mergeSort(a, ini, fin):\n",
    "  if ini < fin:\n",
    "    mid = (ini + fin) // 2\n",
    "    mergeSort(a, ini, mid)\n",
    "    mergeSort(a, mid + 1, fin)\n",
    "    merge(a, ini, fin)"
   ]
  },
  {
   "cell_type": "code",
   "execution_count": 7,
   "metadata": {},
   "outputs": [
    {
     "name": "stdout",
     "output_type": "stream",
     "text": [
      "9\n",
      "20\n"
     ]
    }
   ],
   "source": [
    "def maxValue(arr,i,f):\n",
    "    if i == f:\n",
    "        return arr[i]\n",
    "    mid = (i+f)//2\n",
    "    izq = maxValue(arr,i,mid)\n",
    "    der = maxValue(arr,mid+1,f)\n",
    "    return izq if izq > der else der\n",
    "\n",
    "# O(n)\n",
    "\n",
    "arr = [1,5,7,8,9,4,3,2]\n",
    "print(maxValue(arr,0,len(arr)-1))\n",
    "\n",
    "def maxValueMatrix(matrix,ri,rf,ci,cf):\n",
    "    if ri == rf and ci == cf:\n",
    "        return matrix[ri][ci]\n",
    "    elif ri == rf and ci != cf:\n",
    "        maxi = 0\n",
    "        for c in range(ci,cf+1):\n",
    "            if matrix[ri][c] > maxi:\n",
    "                maxi = matrix[ri][c]\n",
    "        return maxi\n",
    "    elif ri != rf and ci == cf:\n",
    "        maxi = 0\n",
    "        for r in range(ri,rf+1):\n",
    "            if matrix[r][ci] > maxi:\n",
    "                maxi = matrix[r][ci]\n",
    "        return maxi\n",
    "    rmid = (ri + rf) // 2\n",
    "    cmid = (ci+cf) // 2\n",
    "    r1 = maxValueMatrix(matrix,ri,rmid,ci,cmid)\n",
    "    r2 = maxValueMatrix(matrix,ri,rmid,cmid+1,cf)\n",
    "    r3 = maxValueMatrix(matrix,rmid+1,rf,ci,cmid)\n",
    "    r4 = maxValueMatrix(matrix,rmid+1,rf,cmid+1,cf)\n",
    "    return max(r1,r2,r3,r4)\n",
    "# O(n*log(n))\n",
    "\n",
    "matrix = [[3,5,8,9,10],\n",
    "          [2,14,7,4,3],\n",
    "          [12,20,6,0,10],\n",
    "          [3,5,8,9,10],\n",
    "          [3,5,8,9,10]]\n",
    "n = len(matrix)\n",
    "print(maxValueMatrix(matrix,0,n-1,0,n-1))\n",
    "    "
   ]
  },
  {
   "cell_type": "markdown",
   "metadata": {},
   "source": [
    "### Homework\n",
    "\n",
    "<input type=\"checkbox\" >Resolver Stern-Brocot Number System\n",
    "<br>\n",
    "<input type=\"checkbox\" >Resolver Copying Books Problem\n",
    "<br>"
   ]
  },
  {
   "cell_type": "markdown",
   "metadata": {},
   "source": [
    "[Link_de_los_ejercicios](https://onlinejudge.org/index.php?option=onlinejudge&Itemid=8&category=139)"
   ]
  }
 ],
 "metadata": {
  "interpreter": {
   "hash": "9bf2ca0f4a7adc3ce2f237ca763c1538d3ef289a4e7face3612a01cdae9f6807"
  },
  "kernelspec": {
   "display_name": "Python 3.10.0 64-bit",
   "language": "python",
   "name": "python3"
  },
  "language_info": {
   "codemirror_mode": {
    "name": "ipython",
    "version": 3
   },
   "file_extension": ".py",
   "mimetype": "text/x-python",
   "name": "python",
   "nbconvert_exporter": "python",
   "pygments_lexer": "ipython3",
   "version": "3.10.0"
  },
  "orig_nbformat": 4
 },
 "nbformat": 4,
 "nbformat_minor": 2
}
