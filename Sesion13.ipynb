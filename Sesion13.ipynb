{
 "cells": [
  {
   "cell_type": "markdown",
   "metadata": {},
   "source": [
    "## Dynamic Programming Fundamentals"
   ]
  },
  {
   "cell_type": "markdown",
   "metadata": {},
   "source": [
    "##### Recursive Fibonacci O(2^n)"
   ]
  },
  {
   "cell_type": "code",
   "execution_count": 17,
   "metadata": {},
   "outputs": [
    {
     "name": "stdout",
     "output_type": "stream",
     "text": [
      "13\n"
     ]
    }
   ],
   "source": [
    "def fibonacci(n):\n",
    "    if n < 2:\n",
    "        return 1\n",
    "    return fibonacci(n-1) + fibonacci(n-2)\n",
    "print(fibonacci(6))"
   ]
  },
  {
   "cell_type": "markdown",
   "metadata": {},
   "source": [
    "#### Recursive Fibonacci by using DP O(n)"
   ]
  },
  {
   "cell_type": "code",
   "execution_count": 21,
   "metadata": {},
   "outputs": [
    {
     "name": "stdout",
     "output_type": "stream",
     "text": [
      "13\n"
     ]
    }
   ],
   "source": [
    "def DPFibonacci(n):\n",
    "    dp = [None]*(n+1)\n",
    "    dp[0] = 1\n",
    "    dp[1] = 1\n",
    "    def fib(n):\n",
    "        r1 = dp[n-1] if dp[n-1] != None else fib(n-1)\n",
    "        r2 = dp[n-2] if dp[n-2] != None else fib(n-2)\n",
    "        dp[n] = r1 + r2\n",
    "        return dp[n]\n",
    "    return fib(n)\n",
    "print(DPFibonacci(6))"
   ]
  },
  {
   "cell_type": "markdown",
   "metadata": {},
   "source": [
    "## Regular Expression Matching (LeetCode) solution by using DP"
   ]
  },
  {
   "cell_type": "code",
   "execution_count": 5,
   "metadata": {},
   "outputs": [
    {
     "name": "stdout",
     "output_type": "stream",
     "text": [
      "True\n"
     ]
    }
   ],
   "source": [
    "def MatchingStrings(s,p):\n",
    "    l1 = len(s)\n",
    "    l2 = len(p)\n",
    "    cache = {}\n",
    "    def backtracking(i,j):\n",
    "        if (i,j) in cache:\n",
    "            return cache[(i,j)]\n",
    "        if i >= l1 and j >= l2:\n",
    "            return True\n",
    "        if j >= l2:\n",
    "            return False\n",
    "        match = i < l1 and (s[i] == p[j] or p[j] == \".\")\n",
    "        if (j + 1) < l2 and p[j+1] == \"*\":\n",
    "            cache[(i,j)] = backtracking(i,j+2) or (match and backtracking(i+1,j))\n",
    "            return cache[(i,j)]\n",
    "        if match:\n",
    "            cache[(i,j)] = backtracking(i+1,j+1)\n",
    "            return cache[(i,j)]\n",
    "        cache[(i,j)] = False\n",
    "        return False\n",
    "    return backtracking(0,0)\n",
    "print(MatchingStrings(\"abba\",\"a*b*a*\"))"
   ]
  }
 ],
 "metadata": {
  "interpreter": {
   "hash": "9bf2ca0f4a7adc3ce2f237ca763c1538d3ef289a4e7face3612a01cdae9f6807"
  },
  "kernelspec": {
   "display_name": "Python 3.10.0 64-bit",
   "language": "python",
   "name": "python3"
  },
  "language_info": {
   "codemirror_mode": {
    "name": "ipython",
    "version": 3
   },
   "file_extension": ".py",
   "mimetype": "text/x-python",
   "name": "python",
   "nbconvert_exporter": "python",
   "pygments_lexer": "ipython3",
   "version": "3.10.0"
  },
  "orig_nbformat": 4
 },
 "nbformat": 4,
 "nbformat_minor": 2
}
