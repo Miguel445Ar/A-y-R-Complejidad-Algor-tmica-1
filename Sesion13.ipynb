{
 "cells": [
  {
   "cell_type": "markdown",
   "metadata": {},
   "source": [
    "## Dynamic Programming Fundamentals"
   ]
  },
  {
   "cell_type": "markdown",
   "metadata": {},
   "source": [
    "### Exponential Complexity solution"
   ]
  },
  {
   "cell_type": "code",
   "execution_count": 20,
   "metadata": {},
   "outputs": [
    {
     "name": "stdout",
     "output_type": "stream",
     "text": [
      "2\n"
     ]
    }
   ],
   "source": [
    "def CoinChange(n, coins):\n",
    "    if n == 0:\n",
    "        return 0\n",
    "    results = []\n",
    "    for coin in coins:\n",
    "        if n - coin >= 0:\n",
    "            results.append(CoinChange(n-coin,coins))\n",
    "    return min(results) + 1\n",
    "\n",
    "print(CoinChange(40,[1,5,10,20,25,50]))"
   ]
  },
  {
   "cell_type": "markdown",
   "metadata": {},
   "source": [
    "### Efficient Solution by using DP"
   ]
  },
  {
   "cell_type": "code",
   "execution_count": 36,
   "metadata": {},
   "outputs": [
    {
     "name": "stdout",
     "output_type": "stream",
     "text": [
      "2 [3, 4]\n"
     ]
    }
   ],
   "source": [
    "def DPCoinChange(n,coins): # O(n*c)\n",
    "    data = [float(\"inf\")]*(n+1)\n",
    "    coinUsed = [None]*(n+1)\n",
    "    data[0] = 0\n",
    "    coinUsed[0] = 0\n",
    "    for amount in range(1,n+1):\n",
    "        for coin in coins:\n",
    "            if coin <= amount:\n",
    "                if data[amount-coin] + 1 < data[amount]:\n",
    "                    data[amount] = data[amount-coin] + 1\n",
    "                    coinUsed[amount] = coin\n",
    "    if data[n] != float('inf'):\n",
    "        result = []\n",
    "        num = n\n",
    "        while n > 0:\n",
    "            result.append(coinUsed[n])\n",
    "            n -= coinUsed[n]\n",
    "        return data[num], result\n",
    "    return -1, None\n",
    "\n",
    "cant, coins = DPCoinChange(7,[1,3,4,5])\n",
    "print(cant,coins)"
   ]
  },
  {
   "cell_type": "markdown",
   "metadata": {},
   "source": [
    "## Regular Expression Matching (LeetCode) solution by using DP"
   ]
  },
  {
   "cell_type": "code",
   "execution_count": 67,
   "metadata": {},
   "outputs": [
    {
     "name": "stdout",
     "output_type": "stream",
     "text": [
      "True\n"
     ]
    }
   ],
   "source": [
    "def MatchStrings(string: str, pattern: str):\n",
    "    cache = {}\n",
    "    def dfs(i,j):\n",
    "        if (i,j) in cache:\n",
    "            return cache[(i,j)]\n",
    "        if i >= len(string) and j >= len(pattern):\n",
    "            return True\n",
    "        if j >=  len(pattern):\n",
    "            return False\n",
    "        \n",
    "        match = i < len(string) and (string[i] == pattern[j] or pattern[j] == \".\")\n",
    "        if (j + 1) < len(pattern) and pattern[j + 1] == \"*\":\n",
    "            cache[(i,j)] = ((match and dfs(i + 1, j)) or dfs(i,j+2))\n",
    "            return cache[(i,j)]\n",
    "        if match:\n",
    "            cache[(i,j)] = dfs(i+1,j+1)\n",
    "            return cache[(i,j)]\n",
    "        cache[(i,j)] = False\n",
    "        return False\n",
    "    return dfs(0,0)\n",
    "    # And si ve q un argumento es False retorna False y ya no espera al segundo\n",
    "\n",
    "print(MatchStrings(\"aba\",\".*b*a*ba\"))"
   ]
  }
 ],
 "metadata": {
  "interpreter": {
   "hash": "9bf2ca0f4a7adc3ce2f237ca763c1538d3ef289a4e7face3612a01cdae9f6807"
  },
  "kernelspec": {
   "display_name": "Python 3.10.0 64-bit",
   "language": "python",
   "name": "python3"
  },
  "language_info": {
   "codemirror_mode": {
    "name": "ipython",
    "version": 3
   },
   "file_extension": ".py",
   "mimetype": "text/x-python",
   "name": "python",
   "nbconvert_exporter": "python",
   "pygments_lexer": "ipython3",
   "version": "3.10.0"
  },
  "orig_nbformat": 4
 },
 "nbformat": 4,
 "nbformat_minor": 2
}
