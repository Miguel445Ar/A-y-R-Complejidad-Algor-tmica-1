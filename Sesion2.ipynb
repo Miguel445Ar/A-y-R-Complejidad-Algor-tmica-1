{
 "cells": [
  {
   "cell_type": "markdown",
   "metadata": {},
   "source": [
    "# Backtracking"
   ]
  },
  {
   "cell_type": "markdown",
   "metadata": {},
   "source": [
    "##### N-Queens Problem Solution"
   ]
  },
  {
   "cell_type": "code",
   "execution_count": null,
   "metadata": {},
   "outputs": [],
   "source": [
    "!python -m pip install -U matplotlib"
   ]
  },
  {
   "cell_type": "code",
   "execution_count": null,
   "metadata": {},
   "outputs": [],
   "source": [
    "import matplotlib.pyplot as plt\n",
    "import numpy as np\n",
    "\n",
    "def draw(board):\n",
    "  n = len(board)\n",
    "  b = np.zeros((n,n,3))\n",
    "  b += 0.75\n",
    "  b[::2,::2] = 1\n",
    "  b[1::2,1::2] = 1\n",
    "\n",
    "  _, ax = plt.subplots()\n",
    "  ax.imshow(b)\n",
    "\n",
    "  for y,x in enumerate(board):\n",
    "    ax.text(x,y,\"\\u265B\",fontsize=30,ha='center',va='center')\n",
    "  ax.set(xticks=[],yticks=[])\n",
    "  ax.axis('image')\n",
    "  plt.show()\n",
    "\n",
    "def isAValidColumn(solution,row,col):\n",
    "    for ri in range(row):\n",
    "        if solution[ri] == col:\n",
    "            return False\n",
    "        if (ri - solution[ri]) == (row - col) or (ri + solution[ri]) == (row + col):\n",
    "            return False\n",
    "    return True\n",
    "\n",
    "def NQueens(solution,row):\n",
    "    n = len(solution)\n",
    "    if row == n:\n",
    "        draw(solution)\n",
    "        return\n",
    "    for col in range(n):\n",
    "        if isAValidColumn(solution,row,col):\n",
    "            solution[row] = col\n",
    "            NQueens(solution,row+1)\n",
    "\n",
    "n = 5\n",
    "solution = [-1]*n\n",
    "NQueens(solution,0)\n"
   ]
  },
  {
   "cell_type": "code",
   "execution_count": null,
   "metadata": {},
   "outputs": [],
   "source": [
    "def IterativeNQueens(board):\n",
    "    n = len(board)\n",
    "    currentRow = 0\n",
    "    currentColumn = 0\n",
    "    stack = []\n",
    "    \n",
    "    for col in range(n):\n",
    "        if isAValidColumn(board,currentRow,col):\n",
    "            stack.append((currentRow,col))\n",
    "    \n",
    "    while stack:\n",
    "        currentRow, currentColumn = stack.pop()\n",
    "        board[currentRow] = currentColumn\n",
    "        currentRow += 1\n",
    "        if currentRow == n:\n",
    "            draw(board)\n",
    "            continue\n",
    "        for col in range(n):\n",
    "            if isAValidColumn(board,currentRow,col):\n",
    "                stack.append((currentRow,col))\n",
    "\n",
    "solution2 = [-1]*n\n",
    "IterativeNQueens(solution2)\n"
   ]
  },
  {
   "cell_type": "markdown",
   "metadata": {},
   "source": [
    "#### Maze Solver"
   ]
  },
  {
   "cell_type": "code",
   "execution_count": 3,
   "metadata": {},
   "outputs": [
    {
     "name": "stdout",
     "output_type": "stream",
     "text": [
      "++++++++++++\n",
      "+       +   \n",
      "+ +  ++ + ++\n",
      "+ +     + ++\n",
      "+++  ++ +  +\n",
      "+    ++    +\n",
      "++++ +++++ +\n",
      "+    ++  + +\n",
      "+ ++   +   +\n",
      "+     S+ +++\n",
      "++++++++++++\n"
     ]
    }
   ],
   "source": [
    "\n",
    "arr = [ ['+','+','+','+','+','+','+','+','+','+','+','+'],\n",
    "        ['+',' ',' ',' ',' ',' ',' ',' ','+',' ',' ',' '],\n",
    "        ['+',' ','+',' ',' ','+','+',' ','+',' ','+','+'],\n",
    "        ['+',' ','+',' ',' ',' ',' ',' ','+',' ','+','+'],\n",
    "        ['+','+','+',' ',' ','+','+',' ','+',' ',' ','+'],\n",
    "        ['+',' ',' ',' ',' ','+','+',' ',' ',' ',' ','+'],\n",
    "        ['+','+','+','+',' ','+','+','+','+','+',' ','+'],\n",
    "        ['+',' ',' ',' ',' ','+','+',' ',' ','+',' ','+'],\n",
    "        ['+',' ','+','+',' ',' ',' ','+',' ',' ',' ','+'],\n",
    "        ['+',' ',' ',' ',' ',' ','S','+',' ','+','+','+'],\n",
    "        ['+','+','+','+','+','+','+','+','+','+','+','+']]\n",
    "\n",
    "\n",
    "def printLab(matrix):\n",
    "  for i in range(len(matrix)):\n",
    "    s = \"\"\n",
    "    for j in range(len(matrix[0])):\n",
    "      s+=arr[i][j]\n",
    "    print(s)\n",
    "\n",
    "### 'S' -> the goal to reach (la meta)\n",
    "### '+'  -> wall (pared)\n",
    "### ' ' -> is valid road (es camino)\n",
    "### You have to define start point and then reach the goal using backtracking\n",
    "### Your code starts here :D\n",
    "\n",
    "printLab(arr)"
   ]
  }
 ],
 "metadata": {
  "interpreter": {
   "hash": "9bf2ca0f4a7adc3ce2f237ca763c1538d3ef289a4e7face3612a01cdae9f6807"
  },
  "kernelspec": {
   "display_name": "Python 3.10.0 64-bit",
   "language": "python",
   "name": "python3"
  },
  "language_info": {
   "codemirror_mode": {
    "name": "ipython",
    "version": 3
   },
   "file_extension": ".py",
   "mimetype": "text/x-python",
   "name": "python",
   "nbconvert_exporter": "python",
   "pygments_lexer": "ipython3",
   "version": "3.10.0"
  },
  "orig_nbformat": 4
 },
 "nbformat": 4,
 "nbformat_minor": 2
}
