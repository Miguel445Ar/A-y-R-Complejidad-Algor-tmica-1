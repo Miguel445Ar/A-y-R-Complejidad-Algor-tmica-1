{
 "cells": [
  {
   "cell_type": "markdown",
   "metadata": {},
   "source": [
    "## Heaps (min-heap y max heap)"
   ]
  },
  {
   "cell_type": "code",
   "execution_count": 4,
   "metadata": {},
   "outputs": [
    {
     "name": "stdout",
     "output_type": "stream",
     "text": [
      "Heap push\n",
      "[1]\n",
      "[-2, 1]\n",
      "[-2, 1, 6]\n",
      "[-2, 1, 6, 9]\n",
      "[-2, -1, 6, 9, 1]\n",
      "[-2, -1, 0, 9, 1, 6]\n",
      "[-2, -1, 0, 9, 1, 6, 3]\n",
      "[-2, -1, 0, 7, 1, 6, 3, 9]\n",
      "[-2, -1, 0, 0, 1, 6, 3, 9, 7]\n",
      "[-2, -1, 0, 0, 1, 6, 3, 9, 7, 5]\n",
      "Heap pop\n",
      "-2  ||  [-1, 0, 0, 5, 1, 6, 3, 9, 7]\n",
      "-1  ||  [0, 0, 3, 5, 1, 6, 7, 9]\n",
      "0  ||  [0, 1, 3, 5, 9, 6, 7]\n",
      "0  ||  [1, 5, 3, 7, 9, 6]\n",
      "1  ||  [3, 5, 6, 7, 9]\n",
      "3  ||  [5, 7, 6, 9]\n",
      "5  ||  [6, 7, 9]\n",
      "6  ||  [7, 9]\n",
      "7  ||  [9]\n",
      "9  ||  []\n"
     ]
    }
   ],
   "source": [
    "import random\n",
    "class Heap:\n",
    "    def __init__(self,comp):\n",
    "        self.hp = []\n",
    "        self.size = 0\n",
    "        self.comp = comp\n",
    "    def push(self,value):\n",
    "        self.hp.append(value)\n",
    "        self.size += 1\n",
    "        self._heapifyForInsertion()\n",
    "    def pop(self):\n",
    "        if self.size == 0:\n",
    "            return None\n",
    "        value = self.hp[0]\n",
    "        self.hp[0] = self.hp[self.size - 1]\n",
    "        self.hp.pop()\n",
    "        self.size -= 1\n",
    "        self._heapifyForDeletion()\n",
    "        return value\n",
    "    def _heapifyForInsertion(self):\n",
    "        if self.size <= 1:\n",
    "            return\n",
    "        index = self.size - 1\n",
    "        parent = (index - 1) // 2\n",
    "        while self.comp(self.hp[index],self.hp[parent]):\n",
    "            self.hp[index], self.hp[parent] = self.hp[parent], self.hp[index]\n",
    "            if parent == 0:\n",
    "                break\n",
    "            index = parent\n",
    "            parent = (index - 1) // 2\n",
    "    def _heapifyForDeletion(self):\n",
    "        if self.size <= 1:\n",
    "            return\n",
    "        index = 0\n",
    "        while index != None:\n",
    "            lChild = 2 * index + 1\n",
    "            rChild = 2 * index + 2\n",
    "            minPos = 0\n",
    "            if lChild > (self.size - 1) and rChild > (self.size - 1):\n",
    "                break\n",
    "            elif lChild > (self.size - 1):\n",
    "                minPos = rChild\n",
    "            elif rChild > (self.size - 1):\n",
    "                minPos = lChild\n",
    "            else:\n",
    "                minPos = lChild if self.comp(self.hp[lChild],self.hp[rChild]) else rChild\n",
    "            if self.comp(self.hp[minPos],self.hp[index]):\n",
    "                self.hp[index], self.hp[minPos] = self.hp[minPos], self.hp[index]\n",
    "                index = minPos\n",
    "                continue\n",
    "            index = None\n",
    "\n",
    "            \n",
    "\n",
    "    def getHeap(self):\n",
    "        return self.hp\n",
    "\n",
    "comp1 = lambda a,b: a < b\n",
    "minheap = Heap(comp1)\n",
    "print(\"Heap push\")\n",
    "for i in range(10):\n",
    "    minheap.push(random.randint(-2,12))\n",
    "    print(minheap.getHeap())\n",
    "print(\"Heap pop\")\n",
    "for i in range(10):\n",
    "    value = minheap.pop()\n",
    "    print(value,\" || \",minheap.getHeap())\n"
   ]
  }
 ],
 "metadata": {
  "interpreter": {
   "hash": "9bf2ca0f4a7adc3ce2f237ca763c1538d3ef289a4e7face3612a01cdae9f6807"
  },
  "kernelspec": {
   "display_name": "Python 3.10.0 64-bit",
   "language": "python",
   "name": "python3"
  },
  "language_info": {
   "codemirror_mode": {
    "name": "ipython",
    "version": 3
   },
   "file_extension": ".py",
   "mimetype": "text/x-python",
   "name": "python",
   "nbconvert_exporter": "python",
   "pygments_lexer": "ipython3",
   "version": "3.10.0"
  },
  "orig_nbformat": 4
 },
 "nbformat": 4,
 "nbformat_minor": 2
}
