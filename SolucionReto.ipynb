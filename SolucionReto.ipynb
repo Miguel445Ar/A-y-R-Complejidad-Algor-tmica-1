{
 "cells": [
  {
   "cell_type": "markdown",
   "metadata": {},
   "source": [
    "## Stern-Brocot"
   ]
  },
  {
   "cell_type": "code",
   "execution_count": 6,
   "metadata": {},
   "outputs": [
    {
     "name": "stdout",
     "output_type": "stream",
     "text": [
      "LRRLR\n",
      "\n",
      "RRRLRRLLRRRRRRRRRRRRRRRLR"
     ]
    }
   ],
   "source": [
    "def SternBrocot(nr,dr,n1,d1,n2,d2):\n",
    "    if (nr == n1 and dr == d1) or (nr == n2 and dr == d2):\n",
    "        return\n",
    "    nChild = n1 + n2\n",
    "    dChild = d1 + d2\n",
    "    if (nr / dr) < (nChild / dChild):\n",
    "        print(\"L\",end=\"\")\n",
    "        SternBrocot(nr,dr,n1,d1,nChild,dChild)\n",
    "    else:\n",
    "        print(\"R\",end=\"\")\n",
    "        SternBrocot(nr,dr,nChild,dChild,n2,d2)\n",
    "\n",
    "SternBrocot(5,7,0,1,1,0)\n",
    "print(\"\\n\")\n",
    "SternBrocot(828,223,0,1,1,0)"
   ]
  },
  {
   "cell_type": "markdown",
   "metadata": {},
   "source": [
    "## Copying Books"
   ]
  },
  {
   "cell_type": "code",
   "execution_count": 8,
   "metadata": {},
   "outputs": [
    {
     "name": "stdout",
     "output_type": "stream",
     "text": [
      "12 34 67 \\ 90 "
     ]
    }
   ],
   "source": [
    "arr = [12,34,67,90]\n",
    "number = 2\n",
    "maxi = 0\n",
    "\n",
    "# if all array values were the same we'd have to have another consideration in partitioning the pages between scribes\n",
    "\n",
    "for n in arr:\n",
    "    maxi += n\n",
    "\n",
    "def isValid(arr, barrier,n):\n",
    "  writer = 1\n",
    "  pages = 0\n",
    "  for i in range(len(arr)):\n",
    "    if barrier < arr[i]:\n",
    "      return False\n",
    "    if (pages + arr[i]) <= barrier:\n",
    "      pages += arr[i]\n",
    "    else:\n",
    "      writer += 1\n",
    "      pages = arr[i]\n",
    "  if writer > n:\n",
    "    return False\n",
    "  return True\n",
    "def defineBarrier(arr,init,final,n):\n",
    "   i = init\n",
    "   f = final\n",
    "   barrier = -1\n",
    "   while i <= f:\n",
    "       medium  = (i+f) // 2\n",
    "       if isValid(arr,medium,n) == True:\n",
    "           barrier = medium\n",
    "           f = medium - 1\n",
    "       else:\n",
    "           i = medium + 1\n",
    "   aux = 0\n",
    "   for pgs in arr:\n",
    "     if aux + pgs <= barrier:\n",
    "       aux += pgs\n",
    "       print(pgs,end=\" \")\n",
    "     else:\n",
    "       print(\"\\\\\",end=\" \")\n",
    "       aux = pgs\n",
    "       print(pgs,end=\" \")\n",
    "defineBarrier(arr,arr[0],maxi,number)"
   ]
  },
  {
   "cell_type": "markdown",
   "metadata": {},
   "source": [
    "## Ejercicio BFS"
   ]
  },
  {
   "cell_type": "code",
   "execution_count": 10,
   "metadata": {},
   "outputs": [
    {
     "name": "stderr",
     "output_type": "stream",
     "text": [
      "fatal: destination path 'algorithmic_complexity' already exists and is not an empty directory.\n"
     ]
    },
    {
     "data": {
      "image/png": "[encoded data removed]",
      "text/plain": [
       "<Figure size 720x720 with 1 Axes>"
      ]
     },
     "metadata": {
      "needs_background": "light"
     },
     "output_type": "display_data"
    }
   ],
   "source": [
    "#!git clone https://github.com/lmcanavals/algorithmic_complexity.git\n",
    "import algorithmic_complexity.mazebuilder as mb\n",
    "import matplotlib.pyplot as plt\n",
    "\n",
    "def drawMaze(maze):\n",
    "  _, ax = plt.subplots(figsize=(10, 10))\n",
    "  ax.imshow(maze)\n",
    "  ax.axis(\"off\")\n",
    "\n",
    "class Node:\n",
    "    def __init__(self,y,x) -> None:\n",
    "        self.y = y\n",
    "        self.x = x\n",
    "        self.parent = None\n",
    "    def setParent(self,p):\n",
    "        self.parent = p\n",
    "    def getParent(self):\n",
    "        return self.parent\n",
    "    def getData(self):\n",
    "        return self.y, self.x\n",
    "\n",
    "def isValid(y,x,matrix):\n",
    "    if y >= len(matrix) or x >= len(matrix[0]) or y < 0 or x < 0:\n",
    "        return False\n",
    "    if matrix[y][x] == 2 or matrix[y][x] == 1:\n",
    "            return False\n",
    "    pos = [(y,x-1),(y+1,x-1),(y+1,x)]\n",
    "    for r,c in pos:\n",
    "        if r >= len(matrix) or c >= len(matrix[0]) or r < 0 or c < 0:\n",
    "            return False\n",
    "        if matrix[r][c] == 1:\n",
    "            return False\n",
    "    return True\n",
    "\n",
    "def bfs(matrix,yi, xi, yf, xf):\n",
    "    init = Node(yi,xi)\n",
    "    init.setParent(None)\n",
    "    queue = [(yi, xi,init)]\n",
    "    res = None\n",
    "    while queue:\n",
    "        y, x, node = queue.pop(0)\n",
    "        if y == yf and x == xf:\n",
    "            res = node\n",
    "            break\n",
    "        pos = [(y - 1,x),(y + 1,x),(y,x - 1),(y,x + 1)]\n",
    "        for r,c in pos:\n",
    "            if isValid(r,c,matrix):\n",
    "                matrix[r][c] = 2\n",
    "                n = Node(r,c)\n",
    "                n.setParent(node)\n",
    "                queue.append((r,c,n))\n",
    "    \n",
    "    while res != None:\n",
    "        y, x = res.getData()\n",
    "        pos = [(y,x),(y,x-1),(y+1,x-1),(y+1,x)]\n",
    "        for r,c in pos:\n",
    "           matrix[r][c] = 7\n",
    "        res = res.getParent()\n",
    "    for i in range(len(matrix)):\n",
    "        for j in range(len(matrix[0])):\n",
    "            if matrix[i][j] == 1:\n",
    "                matrix[i][j] = 0\n",
    "            elif matrix[i][j] == 0:\n",
    "                matrix[i][j] = 1\n",
    "            elif matrix[i][j] == 2:\n",
    "                matrix[i][j] = 2\n",
    "    drawMaze(matrix)\n",
    "\n",
    "\n",
    "\n",
    "with open(\"datosEjercicioBFS.txt\",mode='r') as file:\n",
    "    n, m = map(int,file.readline().strip().split())\n",
    "    matrix = []\n",
    "    for i in range(n):\n",
    "        row = list(map(int,file.readline().strip().split()))\n",
    "        matrix.append(row)\n",
    "    line = file.readline().strip().split()\n",
    "    line.pop()\n",
    "    yi, xi, yf, xf = list(map(int,line))\n",
    "    bfs(matrix,yi, xi, yf, xf)\n",
    "\n",
    "\n",
    "\n"
   ]
  }
 ],
 "metadata": {
  "interpreter": {
   "hash": "9bf2ca0f4a7adc3ce2f237ca763c1538d3ef289a4e7face3612a01cdae9f6807"
  },
  "kernelspec": {
   "display_name": "Python 3.10.0 64-bit",
   "language": "python",
   "name": "python3"
  },
  "language_info": {
   "codemirror_mode": {
    "name": "ipython",
    "version": 3
   },
   "file_extension": ".py",
   "mimetype": "text/x-python",
   "name": "python",
   "nbconvert_exporter": "python",
   "pygments_lexer": "ipython3",
   "version": "3.10.0"
  },
  "orig_nbformat": 4
 },
 "nbformat": 4,
 "nbformat_minor": 2
}
